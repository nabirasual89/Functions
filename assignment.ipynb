{
  "nbformat": 4,
  "nbformat_minor": 0,
  "metadata": {
    "colab": {
      "provenance": []
    },
    "kernelspec": {
      "name": "python3",
      "display_name": "Python 3"
    },
    "language_info": {
      "name": "python"
    }
  },
  "cells": [
    {
      "cell_type": "markdown",
      "source": [],
      "metadata": {
        "id": "IeR166rus5uh"
      }
    },
    {
      "cell_type": "markdown",
      "source": [
        "# Python Basics Quetions And Answers\n",
        "1. What is Python, and why is it popular?\n",
        "\n",
        " -  Python is a high-level, general-purpose programming language known for its readability and versatility. It's popular due to its simplicity, a large community, extensive libraries, and diverse applications across web development, data science, and machine learning.\n",
        "2. What is an interpreter in Python?\n",
        "  -  In Python, an interpreter is a program that reads and executes Python code line by line. Unlike compiled languages that convert the entire code Into Machine code beforehand, Python's interpreter translates and executes each line as it's encountered. This enables interactive coding and facilitates easier debugging.\n",
        "3. What are pre-defined keywords in Python?\n",
        " - In Python, predefined keywords are reserved words with specific meanings that cannot be used as variable, function, or class names. These keywords are fundamental to Python's syntax and are used for various purposes such as controlling program flow, defining structures, and performing operations\n",
        " Examples of Python keywords\n",
        "\n",
        "- True, False, None: Represent boolean values and the absence of a value.\n",
        "-and, or, not: Logical operators.\n",
        "-if, elif, else: Used for conditional statements.\n",
        "-for, while, break, continue: Used in loops.\n",
        "-def, class, with, as, pass, lambda: Used for defining functions, classes, and other structures.\n",
        "- try, except, finally, raise: Used in exception handling.\n",
        "-global, nonlocal: Used for modifying variables in different scopes.\n",
        "\n",
        "4. Can keywords be used as veriable names?\n",
        " -  No, keywords cannot be used as variable names in most programming languages. Keywords are reserved words that have specific meanings within the language and are used to define the structure and syntax of the code. Using a keyword as a variable name would lead to a conflict because the interpreter would not know whether the word refers to the keyword's intended meaning or the variable.\n",
        "5. What is mutability in Python?\n",
        "\n",
        " - In Python, mutability refers to an object's ability to be changed after it's been created. Mutable obJects, like lists and dictionaries, can have their contents altered without creating a new object, while immutable objects, like strings and tuples, cannot be modified once they're created.\n",
        "  -  Mutable is when something is changeable or has the ability to change. In Python, 'mutable' is the ability of objects to change their values. These are often the objects that store a collection of data.\n",
        "6. Why are lists mutable, but tuples are immutable?\n",
        " -  Tuples and lists are the same in every way except two: Tuples use parentheses instead of square brackets, and the items in tuples cannot be modified (but the items in lists can be modified). We often call lists mutable (meaning they can be changed) and tuples immutable (meaning they cannot be Changed).\n",
        "7. What is the difference between \"==\" and \"is\" operators in python?\n",
        " -  In Python, == and is are both comparison operators, but they check different aspects of objects. == (equality operator) checks if two objects have the same value, while is (identity operator) checks if two variables point to the same object in memory.\n",
        "8. What are logical operators in python?\n",
        " -  In Python, logical operators are used to combine multiple conditions together and evaluate them as a single boolean expression. There are three types of logical operators in Python: `and`, `or`, and `not`. The `and` operator returns `True` if both conditions it is evaluating are true, otherwise it returns `False`.\n",
        "9. What is type casting in python?\n",
        " -  Casting, also known as type conversion, is a process that converts a variable's data type into another data type. These conversions can be implicit (automatically interpreted) or explicit (using built-in functions).\n",
        "10. What is the difference between implicit and explicit type casting?\n",
        " -  Explicit type conversion in programming is done manually by the programmer, while implicit conversion is handled automatically by the compiler. In more detail, explicit type conversion, also known as type casting, is when the programmer intentionally changes the data type of a value.\n",
        "11. What is the purpose of conditional statements in Python?\n",
        " -  Conditional statements are an essential part of programming in Python. They allow you to make decisions based on the values of variables or the result of comparisons. In this article, we'll explore how to use if, else, and elif statements in Python, along with some examples of how to use them in practice.\n",
        "12. How does the elif statement work?\n",
        " -  The “elif” keyword in Python stands for “else if”. It can be used in conditional statements to check for multiple conditions. For example, if the first condition is false, it moves on to the next “elif” statement to check if that condition is true.\n",
        "13. What is the difference between for and while loops?\n",
        " -  So, in summary, the while loop has a looser syntax, and the for loop has a more rigid syntax. A while loop expects some sort of modification to the variable in the body, whereas everything is in the for loop's definition.\n",
        "14. Describe a scenario where a while loop is more suitable than a for loop.\n",
        " - In programming, for loops are best used when you know the number of iterations ahead of time, whereas a while loop is best used when you don't know the number of iterations in advance. Both methods can help you iterate through your code.Iterations"
      ],
      "metadata": {
        "id": "WsaHfooXlFld"
      }
    },
    {
      "cell_type": "markdown",
      "source": [
        "# Practical Questions and Answers"
      ],
      "metadata": {
        "id": "_yno7cfx9FPE"
      }
    },
    {
      "cell_type": "markdown",
      "source": [
        "1. Write a Python program to print \"Hello, World!\"\n",
        " -  print(\"Hello World!\") When you run this line of code, Python will output: Hello World!"
      ],
      "metadata": {
        "id": "oL6S-ZKC9DZU"
      }
    },
    {
      "cell_type": "code",
      "source": [
        "print(\"Hello World!\")"
      ],
      "metadata": {
        "colab": {
          "base_uri": "https://localhost:8080/"
        },
        "id": "G0MAYdx9-pGA",
        "outputId": "6f7d2f14-a80e-41b2-b403-7d4b84bff857"
      },
      "execution_count": null,
      "outputs": [
        {
          "output_type": "stream",
          "name": "stdout",
          "text": [
            "Hello World!\n"
          ]
        }
      ]
    },
    {
      "cell_type": "markdown",
      "source": [
        "2. Write a Python program that displays your name and age.\n",
        " -  Use the follow to create a simple age + name Python program:\n",
        "age = input(\"Enter age: \")\n",
        " -name = input(\"Enter name: \")\n",
        " -print(\"Hi, my name is \" + name + \", and I am \" + age + \" years old.\")"
      ],
      "metadata": {
        "id": "evpG2bq--3wQ"
      }
    },
    {
      "cell_type": "code",
      "source": [
        "name = input(\"Enter name:\")\n",
        "age = input(\"Enter age\")"
      ],
      "metadata": {
        "colab": {
          "base_uri": "https://localhost:8080/"
        },
        "id": "BjnrHqfdAC7-",
        "outputId": "47e80bf4-3acb-4251-da25-09f4c5126b35"
      },
      "execution_count": null,
      "outputs": [
        {
          "name": "stdout",
          "output_type": "stream",
          "text": [
            "Enter name:Tahameem kotnal\n",
            "Enter age22\n"
          ]
        }
      ]
    },
    {
      "cell_type": "markdown",
      "source": [
        "3. Write code to print all the pre-defined keywords in Python using the keyword library.\n",
        " - Python\n",
        "\n",
        "    help('keywords')"
      ],
      "metadata": {
        "id": "NAJ4s23mB-Oe"
      }
    },
    {
      "cell_type": "code",
      "source": [
        "help('keywords')"
      ],
      "metadata": {
        "colab": {
          "base_uri": "https://localhost:8080/"
        },
        "id": "Ns3qrWgNFOsy",
        "outputId": "8a969f9a-9bdc-4a4e-b85a-d5e146b84547"
      },
      "execution_count": 19,
      "outputs": [
        {
          "output_type": "stream",
          "name": "stdout",
          "text": [
            "\n",
            "Here is a list of the Python keywords.  Enter any keyword to get more help.\n",
            "\n",
            "False               class               from                or\n",
            "None                continue            global              pass\n",
            "True                def                 if                  raise\n",
            "and                 del                 import              return\n",
            "as                  elif                in                  try\n",
            "assert              else                is                  while\n",
            "async               except              lambda              with\n",
            "await               finally             nonlocal            yield\n",
            "break               for                 not                 \n",
            "\n"
          ]
        }
      ]
    },
    {
      "cell_type": "markdown",
      "source": [
        "4.  Write a program that checks if a given word is a Python keyword.\n",
        "import keyword\n",
        "\n",
        "def is_python_keyword(word):\n",
        "    \"\"\"Checks if a given word is a Python keyword.\n",
        "\n",
        "    Args:\n",
        "        word: The word to check.\n",
        "\n",
        "    Returns:\n",
        "        True if the word is a Python keyword, False otherwise.\n",
        "    \"\"\"\n",
        "    return keyword.iskeyword(word)\n",
        "\n",
        "# Get input from the user\n",
        "word = input(\"Enter a word: \")\n",
        "\n",
        "# Check if the word is a Python keyword and print the result\n",
        "if is_python_keyword(word):\n",
        "    print(f\"{word} is a Python keyword.\")\n",
        "else:\n",
        "    print(f\"{word} is not a Python keyword.\")\n",
        "\n",
        "Generative AI is experimental.\n",
        "\n",
        "\n",
        "---\n",
        "\n",
        "\n",
        "\n",
        "---\n",
        "\n"
      ],
      "metadata": {
        "id": "TXnagxE8GpGk"
      }
    },
    {
      "cell_type": "code",
      "source": [
        "import keyword\n",
        "\n",
        "def is_keyword(word):\n",
        "    return keyword.iskeyword(word)\n",
        "\n",
        "# Example usage\n",
        "word = input(\"Enter a word to check if it's a Python keyword: \")\n",
        "if is_keyword(word):\n",
        "    print(f\"'{word}' is a Python keyword.\")\n",
        "else:\n",
        "    print(f\"'{word}' is not a Python keyword.\")"
      ],
      "metadata": {
        "colab": {
          "base_uri": "https://localhost:8080/"
        },
        "id": "8-I1Xc5sliXV",
        "outputId": "a0dcc523-5dbb-43eb-d502-265250ae17cf"
      },
      "execution_count": null,
      "outputs": [
        {
          "output_type": "stream",
          "name": "stdout",
          "text": [
            "Enter a word to check if it's a Python keyword: word\n",
            "'word' is not a Python keyword.\n"
          ]
        }
      ]
    },
    {
      "cell_type": "markdown",
      "source": [
        "5. Create a list and tuple in Python, and demonstrate how attempting to change an element works differently for each.\n",
        "\n",
        " Mutable Data Types – These are data types whose values can be modified after they are created. Examples: List, Dictionary, Set\n",
        "Immutable Data Types – These are data types whose values cannot be altered once they are set. Examples: String, Tuple\n",
        "In this article, we will explore the differences between mutable and immutable types in Python, examine their practical uses, and understand how they affect the behaviour of our programs. By the end, you'll have a clear understanding of when to use each type and how they influence performance and code integrity.\n",
        "\n",
        "Difference Between Mutable And Immutable Data Types in Python\n",
        "Given below are the key differences between the mutable and immutable data types in Python programming:\n",
        "\n",
        "Aspect\n",
        "\n",
        "Mutable Objects\n",
        "\n",
        "Immutable Objects\n",
        "\n",
        "Definition\n",
        "\n",
        "Objects whose state or value can be changed after they are created.\n",
        "\n",
        "Objects whose state or value cannot be changed once they are created.\n",
        "\n",
        "Examples\n",
        "\n",
        "Lists, Dictionaries, Sets\n",
        "\n",
        "Integers, Floats, Strings, Tuples, Frozensets\n",
        "\n",
        "Memory Allocation\n",
        "\n",
        "Can modify in place without creating a new object.\n",
        "\n",
        "Creating a new object is required when attempting to modify.\n",
        "\n",
        "Behavior with Assignment\n",
        "\n",
        "Assigning a new reference does not affect other references.\n",
        "\n",
        "Assigning a new reference creates a new object, leaving the original unchanged.\n",
        "\n",
        "Efficiency\n",
        "\n",
        "More memory efficient as they allow changes without allocating new memory.\n",
        "\n",
        "Less memory efficient as new objects are created for any modification.\n",
        "\n",
        "Impact on Functions\n",
        "\n",
        "Functions can alter the original object, affecting other references to it.\n",
        "\n",
        "Functions cannot alter the original object, ensuring it remains unchanged.\n",
        "\n",
        "Use Cases\n",
        "\n",
        "Ideal for situations where changes to the object are frequent, e.g., dynamic data storage.\n",
        "\n",
        "Ideal when the object should remain constant throughout the program, e.g., keys in dictionaries, constants.\n",
        "\n",
        "Hashability\n",
        "\n",
        "Not hashable, so they cannot be used as keys in dictionaries or elements in sets.\n",
        "\n",
        "Hashable, making them suitable as dictionary keys or set elements.\n",
        "\n",
        "Example of Mutation\n",
        "\n",
        "list1 = [1, 2, 3]\n",
        "\n",
        "list1[0] = 10 modifies the object.\n",
        "\n",
        "string1 = \"hello\"\n",
        "\n",
        "string1[0] = \"H\" results in an error.\n",
        "\n",
        "Thread Safety\n",
        "\n",
        "Not thread-safe, as changes to mutable objects can lead to inconsistent state in multi-threaded programs.\n",
        "\n",
        "Thread-safe, as immutable objects cannot be altered after creation, ensuring consistency.\n",
        "\n",
        "What Is Mutable Data Type In Python?\n",
        "In Python, a mutable data type refers to a data type whose value or state can be changed after it is created. This means that once an object of a mutable type is initialized, you can modify its content or structure without creating a new object. The ability to change the contents of a mutable object directly can be particularly useful for scenarios where you need to perform frequent modifications to data without creating copies of the object each time.\n",
        "\n",
        "Mutable types are commonly used in cases where performance is important, especially when dealing with large datasets, as modifying the object in place is more memory-efficient than creating new copies.\n",
        "Types Of Mutable Data Types In Python\n",
        "Here are the most common mutable data types in Python:\n",
        "\n",
        "Lists\n",
        "\n",
        "Lists are ordered collections of elements that are changeable, meaning their content can be modified after they are created. Lists allow duplicate elements and maintain the order of insertion.\n"
      ],
      "metadata": {
        "id": "mHLz9bg8frDj"
      }
    },
    {
      "cell_type": "code",
      "source": [
        "my_list = [1, 2, 3]\n",
        "\n",
        "print(\"Original list:\", my_list)\n",
        "\n",
        "# Modifying an element\n",
        "my_list[0] = 10\n",
        "print(\"Modified list (after changing first element):\", my_list)\n",
        "\n",
        "# Adding a new element\n",
        "my_list.append(4)\n",
        "print(\"Modified list (after appending 4):\", my_list)\n",
        "\n",
        "# Removing an element\n",
        "my_list.remove(2)\n",
        "print(\"Modified list (after removing 2):\", my_list)\n"
      ],
      "metadata": {
        "colab": {
          "base_uri": "https://localhost:8080/"
        },
        "id": "RHMJ_5Uyjouy",
        "outputId": "9fb353dd-e831-48ea-ed88-892b049945e6"
      },
      "execution_count": null,
      "outputs": [
        {
          "output_type": "stream",
          "name": "stdout",
          "text": [
            "Original list: [1, 2, 3]\n",
            "Modified list (after changing first element): [10, 2, 3]\n",
            "Modified list (after appending 4): [10, 2, 3, 4]\n",
            "Modified list (after removing 2): [10, 3, 4]\n"
          ]
        }
      ]
    },
    {
      "cell_type": "markdown",
      "source": [
        "Creating a List and a Tuple"
      ],
      "metadata": {
        "id": "qE0etbVjnd5y"
      }
    },
    {
      "cell_type": "code",
      "source": [
        "# Creating a list\n",
        "my_list = [1, 2, 3, 4, 5]\n",
        "\n",
        "# Creating a tuple\n",
        "my_tuple = (1, 2, 3, 4, 5)\n"
      ],
      "metadata": {
        "id": "nAQDWdCaoZM5"
      },
      "execution_count": null,
      "outputs": []
    },
    {
      "cell_type": "markdown",
      "source": [
        "Modifying an Element in a List\n",
        "\n",
        "Lists in Python are mutable, meaning you can change their elements after creation"
      ],
      "metadata": {
        "id": "i6iCb5LEot1i"
      }
    },
    {
      "cell_type": "code",
      "source": [
        "# Modifying an element in the list\n",
        "my_list[2] = 99\n",
        "print(\"Modified list:\", my_list)\n",
        "\n"
      ],
      "metadata": {
        "colab": {
          "base_uri": "https://localhost:8080/"
        },
        "id": "SQvqeewKo2To",
        "outputId": "0c394702-b855-46e7-953d-7b8b1d687ccd"
      },
      "execution_count": null,
      "outputs": [
        {
          "output_type": "stream",
          "name": "stdout",
          "text": [
            "Modified list: [1, 2, 99, 4, 5]\n"
          ]
        }
      ]
    },
    {
      "cell_type": "markdown",
      "source": [
        "Attempting to Modify an Element in a Tuple\n",
        "\n",
        "Tuples in Python are immutable, meaning you cannot change their elements after creation. Attempting to do so will raise an error."
      ],
      "metadata": {
        "id": "jEz8OaBOpGka"
      }
    },
    {
      "cell_type": "code",
      "source": [
        "try:\n",
        "    # Attempting to modify an element in the tuple\n",
        "    my_tuple[2] = 99\n",
        "except TypeError as e:\n",
        "    print(\"Error:\", e)\n"
      ],
      "metadata": {
        "colab": {
          "base_uri": "https://localhost:8080/"
        },
        "id": "D-RI6FzRpOLH",
        "outputId": "e7c24672-633a-475d-8b51-701af597743d"
      },
      "execution_count": null,
      "outputs": [
        {
          "output_type": "stream",
          "name": "stdout",
          "text": [
            "Error: 'tuple' object does not support item assignment\n"
          ]
        }
      ]
    },
    {
      "cell_type": "markdown",
      "source": [
        "Summary\n",
        "\n",
        "Lists: Mutable, elements can be changed.\n",
        "\n",
        "Tuples: Immutable, elements cannot be changed.\n",
        "\n",
        "This distinction is crucial when deciding which data structure to use based on whether you need to modify the data after creation."
      ],
      "metadata": {
        "id": "O-n-a6tspim-"
      }
    },
    {
      "cell_type": "markdown",
      "source": [],
      "metadata": {
        "id": "oKx8EQzBpiTf"
      }
    },
    {
      "cell_type": "markdown",
      "source": [
        "6. write a function to demonstrate the behavior of mutable and immutable arguments."
      ],
      "metadata": {
        "id": "M96W7eclqwjR"
      }
    },
    {
      "cell_type": "code",
      "source": [
        "def demonstrate_mutable_immutable():\n",
        "    # Immutable argument example\n",
        "    def modify_immutable(arg):\n",
        "        print(f\"Initial immutable value: {arg}\")\n",
        "        arg += 10\n",
        "        print(f\"Modified immutable value: {arg}\")\n",
        "\n",
        "    # Mutable argument example\n",
        "    def modify_mutable(arg):\n",
        "        print(f\"Initial mutable value: {arg}\")\n",
        "        arg.append(10)\n",
        "        print(f\"Modified mutable value: {arg}\")\n",
        "\n",
        "    # Immutable argument (integer)\n",
        "    immutable_arg = 5\n",
        "    print(\"Immutable Argument Example:\")\n",
        "    modify_immutable(immutable_arg)\n",
        "    print(f\"Value outside function (immutable): {immutable_arg}\\n\")\n",
        "\n",
        "    # Mutable argument (list)\n",
        "    mutable_arg = [1, 2, 3]\n",
        "    print(\"Mutable Argument Example:\")\n",
        "    modify_mutable(mutable_arg)\n",
        "    print(f\"Value outside function (mutable): {mutable_arg}\")\n",
        "\n",
        "# Call the function to see the behavior\n",
        "demonstrate_mutable_immutable()\n"
      ],
      "metadata": {
        "colab": {
          "base_uri": "https://localhost:8080/"
        },
        "id": "G1CezzwPqt5l",
        "outputId": "dd84c306-8f11-4a4f-8b76-ac18fbb65fda"
      },
      "execution_count": null,
      "outputs": [
        {
          "output_type": "stream",
          "name": "stdout",
          "text": [
            "Immutable Argument Example:\n",
            "Initial immutable value: 5\n",
            "Modified immutable value: 15\n",
            "Value outside function (immutable): 5\n",
            "\n",
            "Mutable Argument Example:\n",
            "Initial mutable value: [1, 2, 3]\n",
            "Modified mutable value: [1, 2, 3, 10]\n",
            "Value outside function (mutable): [1, 2, 3, 10]\n"
          ]
        }
      ]
    },
    {
      "cell_type": "markdown",
      "source": [
        "Explanation:\n",
        "\n",
        "1.Immutable Argument Example:\n",
        "\n",
        "\n",
        "The function modify_immutable takes an integer (immutable) as an argument.\n",
        "\n",
        "Inside the function, the integer is modified, but this change does not affect the original variable outside the function.\n",
        "\n",
        "This demonstrates that immutable objects do not retain changes made within the function.\n",
        "\n",
        "2.Mutable Argument Example:\n",
        "\n",
        "The function modify_mutable takes a list (mutable) as an argument.\n",
        "\n",
        "Inside the function, an element is appended to the list.\n",
        "\n",
        "This change affects the original list outside the function\n",
        "\n",
        "This demonstrates that mutable objects retain changes made within the function.\n",
        "When you run the demonstrate_mutable_immutable function, you'll see how the values inside and outside the functions differ for immutable and mutable arguments."
      ],
      "metadata": {
        "id": "1Mm0YyUHrUrq"
      }
    },
    {
      "cell_type": "markdown",
      "source": [
        "7. Write a program that performs basic arithmetic operations on two user-input numbers.\n",
        "Sure! Here's a simple Python program that performs basic arithmetic operations (addition, subtraction, multiplication, and division) on two user-input numbers:"
      ],
      "metadata": {
        "id": "v4e2_FaNsTx_"
      }
    },
    {
      "cell_type": "code",
      "source": [
        "# Function to perform basic arithmetic operations\n",
        "def arithmetic_operations(num1, num2):\n",
        "    addition = num1 + num2\n",
        "    subtraction = num1 - num2\n",
        "    multiplication = num1 * num2\n",
        "    division = num1 / num2 if num2 != 0 else \"undefined (division by zero)\"\n",
        "\n",
        "    return addition, subtraction, multiplication, division\n",
        "\n",
        "# Main program\n",
        "def main():\n",
        "    try:\n",
        "        # Taking user input\n",
        "        num1 = float(input(\"Enter the first number: \"))\n",
        "        num2 = float(input(\"Enter the second number: \"))\n",
        "\n",
        "        # Performing operations\n",
        "        add, sub, mul, div = arithmetic_operations(num1, num2)\n",
        "\n",
        "        # Displaying results\n",
        "        print(f\"Addition: {num1} + {num2} = {add}\")\n",
        "        print(f\"Subtraction: {num1} - {num2} = {sub}\")\n",
        "        print(f\"Multiplication: {num1} * {num2} = {mul}\")\n",
        "        print(f\"Division: {num1} / {num2} = {div}\")\n",
        "\n",
        "    except ValueError:\n",
        "        print(\"Invalid input! Please enter numeric values.\")\n",
        "\n",
        "# Running the main program\n",
        "if __name__ == \"__main__\":\n",
        "    main()\n"
      ],
      "metadata": {
        "colab": {
          "base_uri": "https://localhost:8080/"
        },
        "id": "bLlagGvjtHRW",
        "outputId": "9e0e8ee1-9302-46fa-f8cf-ae8518d3eb88"
      },
      "execution_count": null,
      "outputs": [
        {
          "output_type": "stream",
          "name": "stdout",
          "text": [
            "Enter the first number: num1\n",
            "Invalid input! Please enter numeric values.\n"
          ]
        }
      ]
    },
    {
      "cell_type": "markdown",
      "source": [
        "This program:\n",
        "\n",
        "\n",
        "Defines a function arithmetic_operations to perform the four basic arithmetic operations.\n",
        "\n",
        "Takes two numbers as input from the user.\n",
        "\n",
        "Calls the function to perform the operations.\n",
        "\n",
        "Prints the results of the operations.\n",
        "\n",
        "Handles invalid input gracefully by catching ValueError.\n",
        "nu\n",
        "Feel free to run this code in your Python environment!"
      ],
      "metadata": {
        "id": "-GK3K1JhtZTV"
      }
    },
    {
      "cell_type": "markdown",
      "source": [
        "8. Write a program to demonstrate the use of logical operators.\n",
        "Sure! Here's a simple Python program that demonstrates the use of logical operators (and, or, not):"
      ],
      "metadata": {
        "id": "MQnMGb5MxbBJ"
      }
    },
    {
      "cell_type": "code",
      "source": [
        "# Demonstrating the use of logical operators in Python\n",
        "\n",
        "# Define some variables\n",
        "a = True\n",
        "b = False\n",
        "x = 10\n",
        "y = 20\n",
        "\n",
        "# Using 'and' operator\n",
        "print(\"a and b:\", a and b)  # False, because both conditions are not True\n",
        "print(\"x > 5 and y < 25:\", x > 5 and y < 25)  # True, because both conditions are True\n",
        "\n",
        "# Using 'or' operator\n",
        "print(\"a or b:\", a or b)  # True, because at least one condition is True\n",
        "print(\"x < 5 or y > 15:\", x < 5 or y > 15)  # True, because one of the conditions is True\n",
        "\n",
        "# Using 'not' operator\n",
        "print(\"not a:\", not a)  # False, because 'a' is True\n",
        "print(\"not b:\", not b)  # True, because 'b' is False\n",
        "\n",
        "# Combining logical operators\n",
        "print(\"not (a and b):\", not (a and b))  # True, because 'a and b' is False\n",
        "print(\"(x > 5 and y < 25) or (x < 5 and y > 15):\", (x > 5 and y < 25) or (x < 5 and y > 15))  # True, because the first condition is True\n",
        "\n",
        "# Using logical operators with non-boolean values\n",
        "print(\"x and y:\", x and y)  # 20, because 'x' is True (non-zero) and returns 'y'\n",
        "print(\"x or y:\", x or y)  # 10, because 'x' is True (non-zero) and returns 'x'\n",
        "print(\"not x:\", not x)  # False, because 'x' is non-zero (True)\n"
      ],
      "metadata": {
        "colab": {
          "base_uri": "https://localhost:8080/"
        },
        "id": "xcoZvnWAxdid",
        "outputId": "4b72d448-f91b-4bd9-8296-1a504569e624"
      },
      "execution_count": null,
      "outputs": [
        {
          "output_type": "stream",
          "name": "stdout",
          "text": [
            "a and b: False\n",
            "x > 5 and y < 25: True\n",
            "a or b: True\n",
            "x < 5 or y > 15: True\n",
            "not a: False\n",
            "not b: True\n",
            "not (a and b): True\n",
            "(x > 5 and y < 25) or (x < 5 and y > 15): True\n",
            "x and y: 20\n",
            "x or y: 10\n",
            "not x: False\n"
          ]
        }
      ]
    },
    {
      "cell_type": "markdown",
      "source": [
        "Explanation:\n",
        "\n",
        "and Operator: Returns True if both operands are true.\n",
        "\n",
        "or Operator: Returns True if at least one of the operands is true.\n",
        "\n",
        "not Operator: Returns True if the operand is false.\n",
        "\n",
        "This program covers basic usage of logical operators with both boolean and non-boolean values. Feel free to run and modify it to see how logical operators work in different scenarios!"
      ],
      "metadata": {
        "id": "yUYJRrE_x1yf"
      }
    },
    {
      "cell_type": "markdown",
      "source": [
        "9. Write a python program to convert user input from string to integer, float, and boolean types.\n",
        "Sure! Here's a Python program that takes user input and converts it to integer, float, and boolean types:"
      ],
      "metadata": {
        "id": "dJPxraGryxba"
      }
    },
    {
      "cell_type": "code",
      "source": [
        "def convert_input(user_input):\n",
        "    try:\n",
        "        int_value = int(user_input)\n",
        "    except ValueError:\n",
        "        int_value = None\n",
        "\n",
        "    try:\n",
        "        float_value = float(user_input)\n",
        "    except ValueError:\n",
        "        float_value = None\n",
        "\n",
        "    if user_input.lower() in ['true', 'false']:\n",
        "        bool_value = user_input.lower() == 'true'\n",
        "    else:\n",
        "        bool_value = None\n",
        "\n",
        "    return int_value, float_value, bool_value\n",
        "\n",
        "def main():\n",
        "    user_input = input(\"Enter a value: \")\n",
        "\n",
        "    int_value, float_value, bool_value = convert_input(user_input)\n",
        "\n",
        "    print(f\"Integer conversion: {int_value}\")\n",
        "    print(f\"Float conversion: {float_value}\")\n",
        "    print(f\"Boolean conversion: {bool_value}\")\n",
        "\n",
        "if __name__ == \"__main__\":\n",
        "    main()\n"
      ],
      "metadata": {
        "id": "XaaSO4Vcy0sg",
        "colab": {
          "base_uri": "https://localhost:8080/"
        },
        "outputId": "2a574baf-7c2a-44cc-9a72-08c76764b4a6"
      },
      "execution_count": 12,
      "outputs": [
        {
          "output_type": "stream",
          "name": "stdout",
          "text": [
            "Enter a value: 1\n",
            "Integer conversion: 1\n",
            "Float conversion: 1.0\n",
            "Boolean conversion: None\n"
          ]
        }
      ]
    },
    {
      "cell_type": "markdown",
      "source": [
        "This program defines a function convert_input that attempts to convert the user input to an integer, float, and boolean. It then prints the results of these conversions. If the conversion is not possible, it returns None for that type.\n",
        "\n"
      ],
      "metadata": {
        "id": "Iy5ewmlIzJGT"
      }
    },
    {
      "cell_type": "markdown",
      "source": [
        "10. Write code to demonstrate type casting with list elements.\n",
        "\n",
        "The task of type casting a whole list and matrix in Python involves converting all elements of a list or a matrix to a specific data type while preserving the structure. Given a list or matrix of integers, the goal is to transform each element into another data type, such as a string or float, efficiently. For example, with a = [1, 2, 3] and b = [[4, 5], [6, 7]], converting all elements to strings results in [‘1’, ‘2’, ‘3’] and [[“4”, “5”], [“6”, “7”]].\n",
        "\n",
        "\n",
        "Using list comprehension\n",
        "# New Section\n",
        "When type casting a whole list or matrix, list comprehension provides a concise one-liner approach. In the case of a matrix, nested list comprehensions allow us to apply the transformation to each sublist row as well. This method is favored for its readability and efficiency when the transformation is straightforward.\n",
        "\n",
        "\n",
        "\n",
        "\n"
      ],
      "metadata": {
        "id": "zVYGUslNzohT"
      }
    },
    {
      "cell_type": "code",
      "source": [
        "a = [1, 4, 9, 10, 19]\n",
        "b = [[5, 6, 8], [8, 5, 3], [9, 10, 3]]\n",
        "\n",
        "c = [str(x) for x in a]\n",
        "d = [[str(x) for x in sub] for sub in b]\n",
        "\n",
        "print(c)\n",
        "print(d)\n"
      ],
      "metadata": {
        "id": "6W1y2EN01OgU"
      },
      "execution_count": null,
      "outputs": []
    },
    {
      "cell_type": "code",
      "source": [
        "Output\n",
        "['1', '4', '9', '10', '19']\n",
        "[['5', '6', '8'], ['8', '5', '3'], ['9', '10', '3']]"
      ],
      "metadata": {
        "id": "4RY-L5mP1eNj"
      },
      "execution_count": null,
      "outputs": []
    },
    {
      "cell_type": "markdown",
      "source": [
        "11. Write a program that checks if a number is positive, negative, or zero.\n",
        "Sure! Here is a simple Python program that checks if a number is positive, negative, or zero:"
      ],
      "metadata": {
        "id": "x62xUfo51rFI"
      }
    },
    {
      "cell_type": "code",
      "source": [
        "# Function to check if a number is positive, negative, or zero\n",
        "def check_number(num):\n",
        "    if num > 0:\n",
        "        return \"The number is positive.\"\n",
        "    elif num < 0:\n",
        "        return \"The number is negative.\"\n",
        "    else:\n",
        "        return \"The number is zero.\"\n",
        "\n",
        "# Example usage\n",
        "number = float(input(\"Enter a number: \"))\n",
        "result = check_number(number)\n",
        "print(result)\n"
      ],
      "metadata": {
        "id": "poT3Tg5F1qq_"
      },
      "execution_count": null,
      "outputs": []
    },
    {
      "cell_type": "markdown",
      "source": [
        "This program defines a function check_number that takes a number as input and returns a string indicating whether the number is positive, negative, or zero. The example usage part demonstrates how to use this function by taking user input and printing the result."
      ],
      "metadata": {
        "id": "1528XdOi2Z7t"
      }
    },
    {
      "cell_type": "markdown",
      "source": [],
      "metadata": {
        "id": "Lp_a3her3e3Q"
      }
    },
    {
      "cell_type": "markdown",
      "source": [
        "12. write a for loop to print numbers from 1 to 10.\n",
        "\n",
        "Method 2: Using a while loop\n",
        "\n",
        "---\n",
        "\n"
      ],
      "metadata": {
        "id": "wcpSgdab32zo"
      }
    },
    {
      "cell_type": "code",
      "source": [
        "i = 1\n",
        "while i <= 10:\n",
        "    print(i)\n",
        "    i += 1\n"
      ],
      "metadata": {
        "id": "haOBDNdf2Tp1",
        "colab": {
          "base_uri": "https://localhost:8080/"
        },
        "outputId": "ba9e01de-7bc8-4d87-e92e-d591af412af3"
      },
      "execution_count": 13,
      "outputs": [
        {
          "output_type": "stream",
          "name": "stdout",
          "text": [
            "1\n",
            "2\n",
            "3\n",
            "4\n",
            "5\n",
            "6\n",
            "7\n",
            "8\n",
            "9\n",
            "10\n"
          ]
        }
      ]
    },
    {
      "cell_type": "markdown",
      "source": [
        "Method 3: Using list comprehension (though not a loop, it's a concise way)"
      ],
      "metadata": {
        "id": "pEYBpoHX42eL"
      }
    },
    {
      "cell_type": "code",
      "source": [
        "[print(i) for i in range(1, 11)]\n"
      ],
      "metadata": {
        "id": "o9WFekjH4OYd",
        "colab": {
          "base_uri": "https://localhost:8080/"
        },
        "outputId": "5667ff11-8b77-4aa8-e4b4-1989e4364220"
      },
      "execution_count": 14,
      "outputs": [
        {
          "output_type": "stream",
          "name": "stdout",
          "text": [
            "1\n",
            "2\n",
            "3\n",
            "4\n",
            "5\n",
            "6\n",
            "7\n",
            "8\n",
            "9\n",
            "10\n"
          ]
        },
        {
          "output_type": "execute_result",
          "data": {
            "text/plain": [
              "[None, None, None, None, None, None, None, None, None, None]"
            ]
          },
          "metadata": {},
          "execution_count": 14
        }
      ]
    },
    {
      "cell_type": "markdown",
      "source": [
        "Feel free to use the method that best suits your needs!"
      ],
      "metadata": {
        "id": "WcUgzT3k4_oD"
      }
    },
    {
      "cell_type": "markdown",
      "source": [
        "13. write a python program to find the sum of all even numbers between 1 and 50.\n",
        "\n",
        "Sure! Here's a Python program that calculates the sum of all even numbers between 1 and 50:"
      ],
      "metadata": {
        "id": "eUlklaiC5vcK"
      }
    },
    {
      "cell_type": "code",
      "source": [
        "def sum_of_even_numbers(start, end):\n",
        "    total_sum = 0\n",
        "    for number in range(start, end + 1):\n",
        "        if number % 2 == 0:\n",
        "            total_sum += number\n",
        "    return total_sum\n",
        "\n",
        "# Define the range\n",
        "start = 1\n",
        "end = 50\n",
        "\n",
        "# Calculate the sum of even numbers\n",
        "sum_even = sum_of_even_numbers(start, end)\n",
        "\n",
        "# Print the result\n",
        "print(f\"The sum of all even numbers between {start} and {end} is: {sum_even}\")\n"
      ],
      "metadata": {
        "colab": {
          "base_uri": "https://localhost:8080/"
        },
        "id": "QKoSC0MT46Ix",
        "outputId": "20c8c8a5-1b8e-443a-ebbf-2cd303fc5d2c"
      },
      "execution_count": 15,
      "outputs": [
        {
          "output_type": "stream",
          "name": "stdout",
          "text": [
            "The sum of all even numbers between 1 and 50 is: 650\n"
          ]
        }
      ]
    },
    {
      "cell_type": "markdown",
      "source": [
        "This program defines a function sum_of_even_numbers that takes a start and end value, iterates through the range, checks if a number is even, and adds it to the total sum. Finally, it prints the result."
      ],
      "metadata": {
        "id": "kn3mTjDe6L3r"
      }
    },
    {
      "cell_type": "markdown",
      "source": [
        "14. write a program to reverse a string using a while loop.\n",
        "\n",
        "Sure! Here is a simple Python program to reverse a string using a while loop:"
      ],
      "metadata": {
        "id": "pgWiL-nf6g7s"
      }
    },
    {
      "cell_type": "code",
      "source": [
        "def reverse_string(input_string):\n",
        "    # Initialize an empty string to store the reversed string\n",
        "    reversed_string = \"\"\n",
        "\n",
        "    # Get the length of the input string\n",
        "    length = len(input_string)\n",
        "\n",
        "    # Initialize the index to the last character of the string\n",
        "    index = length - 1\n",
        "\n",
        "    # Use a while loop to iterate over the string in reverse order\n",
        "    while index >= 0:\n",
        "        # Append the current character to the reversed string\n",
        "        reversed_string += input_string[index]\n",
        "        # Move to the previous character\n",
        "        index -= 1\n",
        "\n",
        "    return reversed_string\n",
        "\n",
        "# Example usage\n",
        "original_string = \"Hello, World!\"\n",
        "reversed_string = reverse_string(original_string)\n",
        "print(\"Original String:\", original_string)\n",
        "print(\"Reversed String:\", reversed_string)\n"
      ],
      "metadata": {
        "colab": {
          "base_uri": "https://localhost:8080/"
        },
        "id": "ma1p0Z626Ezn",
        "outputId": "ef9cca08-ba64-461c-ea1a-e982ff539f25"
      },
      "execution_count": 16,
      "outputs": [
        {
          "output_type": "stream",
          "name": "stdout",
          "text": [
            "Original String: Hello, World!\n",
            "Reversed String: !dlroW ,olleH\n"
          ]
        }
      ]
    },
    {
      "cell_type": "markdown",
      "source": [
        "This program defines a function reverse_string that takes an input string and reverses it using a while loop. The example usage demonstrates how to call this function and print the original and reversed strings."
      ],
      "metadata": {
        "id": "QDMlr_F16zt1"
      }
    },
    {
      "cell_type": "markdown",
      "source": [
        "15. write a python program to calculate the factorial of a number provided by the user using a while loop.\n",
        "\n",
        "Sure! Here's a Python program that calculates the factorial of a number provided by the user using a while loop:"
      ],
      "metadata": {
        "id": "JJS6xjN07R1W"
      }
    },
    {
      "cell_type": "code",
      "source": [
        "# Function to calculate factorial using a while loop\n",
        "def factorial(n):\n",
        "    result = 1\n",
        "    while n > 1:\n",
        "        result *= n\n",
        "        n -= 1\n",
        "    return result\n",
        "\n",
        "# Get user input\n",
        "number = int(input(\"Enter a number to calculate its factorial: \"))\n",
        "\n",
        "# Ensure the number is non-negative\n",
        "if number < 0:\n",
        "    print(\"Factorial is not defined for negative numbers.\")\n",
        "else:\n",
        "    # Calculate and print the factorial\n",
        "    print(f\"The factorial of {number} is {factorial(number)}.\")\n"
      ],
      "metadata": {
        "colab": {
          "base_uri": "https://localhost:8080/"
        },
        "id": "CpfWaHqv7dbL",
        "outputId": "5ca4f286-c701-4cfa-ab86-aee9ca7c9f0b"
      },
      "execution_count": 17,
      "outputs": [
        {
          "output_type": "stream",
          "name": "stdout",
          "text": [
            "Enter a number to calculate its factorial: 10\n",
            "The factorial of 10 is 3628800.\n"
          ]
        }
      ]
    },
    {
      "cell_type": "markdown",
      "source": [
        "This program first defines a function factorial that uses a while loop to compute the factorial of a given number. It then prompts the user to enter a number, checks if the number is non-negative, and finally calculates and prints the factorial.\n",
        "\n"
      ],
      "metadata": {
        "id": "rrfxwcn77tKV"
      }
    }
  ]
}